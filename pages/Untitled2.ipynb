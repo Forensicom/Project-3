{
 "cells": [
  {
   "cell_type": "code",
   "execution_count": 2,
   "id": "964c3e1a-164e-46a9-aa28-ca8cde4fc30d",
   "metadata": {},
   "outputs": [
    {
     "ename": "TypeError",
     "evalue": "string indices must be integers",
     "output_type": "error",
     "traceback": [
      "\u001b[1;31m---------------------------------------------------------------------------\u001b[0m",
      "\u001b[1;31mTypeError\u001b[0m                                 Traceback (most recent call last)",
      "\u001b[1;32m~\\AppData\\Local\\Temp\\ipykernel_20660\\253299426.py\u001b[0m in \u001b[0;36m<module>\u001b[1;34m\u001b[0m\n\u001b[0;32m     19\u001b[0m \u001b[0mbnb_url\u001b[0m \u001b[1;33m=\u001b[0m \u001b[1;34m\"https://api.coincap.io/v2/assets/binance-usd\"\u001b[0m\u001b[1;33m\u001b[0m\u001b[1;33m\u001b[0m\u001b[0m\n\u001b[0;32m     20\u001b[0m \u001b[1;33m\u001b[0m\u001b[0m\n\u001b[1;32m---> 21\u001b[1;33m \u001b[0mbtc_pct\u001b[0m \u001b[1;33m=\u001b[0m \u001b[0mpd\u001b[0m\u001b[1;33m.\u001b[0m\u001b[0mDataFrame\u001b[0m\u001b[1;33m(\u001b[0m\u001b[0mbtc_url\u001b[0m\u001b[1;33m[\u001b[0m\u001b[1;34m'data'\u001b[0m\u001b[1;33m]\u001b[0m\u001b[1;33m[\u001b[0m\u001b[1;34m'changePercent24Hr'\u001b[0m\u001b[1;33m]\u001b[0m\u001b[1;33m)\u001b[0m\u001b[1;33m\u001b[0m\u001b[1;33m\u001b[0m\u001b[0m\n\u001b[0m\u001b[0;32m     22\u001b[0m \u001b[0mbtc_pct\u001b[0m\u001b[1;33m.\u001b[0m\u001b[0mhead\u001b[0m\u001b[1;33m(\u001b[0m\u001b[1;33m)\u001b[0m\u001b[1;33m\u001b[0m\u001b[1;33m\u001b[0m\u001b[0m\n",
      "\u001b[1;31mTypeError\u001b[0m: string indices must be integers"
     ]
    }
   ],
   "source": [
    "import streamlit as st\n",
    "import yfinance as yf\n",
    "import feedparser\n",
    "import webbrowser\n",
    "import pandas as pd\n",
    "\n",
    "\n",
    "\n",
    "bitcoin = yf.Ticker(\"BTC-USD\")\n",
    "ethereum = yf.Ticker(\"ETH-USD\")\n",
    "tether = yf.Ticker(\"USDT-USD\")\n",
    "ripple = yf.Ticker(\"XRP-USD\")\n",
    "binance = yf.Ticker(\"BNB-USD\")\n",
    "\n",
    "btc_url = \"https://api.coincap.io/v2/assets/bitcoin\"\n",
    "eth_url = \"https://api.coincap.io/v2/assets/ethereum\"\n",
    "usdt_url = \"https://api.coincap.io/v2/assets/tether\"\n",
    "xrp_url = \"https://api.coincap.io/v2/assets/xrp\"\n",
    "bnb_url = \"https://api.coincap.io/v2/assets/binance-usd\"\n",
    "\n",
    "btc_pct = pd.DataFrame(btc_url['data']['changePercent24Hr'])\n",
    "btc_pct.head()\n"
   ]
  },
  {
   "cell_type": "code",
   "execution_count": null,
   "id": "c85db95c-9b1d-483e-adcf-36a64a13c421",
   "metadata": {},
   "outputs": [],
   "source": []
  }
 ],
 "metadata": {
  "kernelspec": {
   "display_name": "Python 3 (ipykernel)",
   "language": "python",
   "name": "python3"
  },
  "language_info": {
   "codemirror_mode": {
    "name": "ipython",
    "version": 3
   },
   "file_extension": ".py",
   "mimetype": "text/x-python",
   "name": "python",
   "nbconvert_exporter": "python",
   "pygments_lexer": "ipython3",
   "version": "3.9.13"
  }
 },
 "nbformat": 4,
 "nbformat_minor": 5
}
