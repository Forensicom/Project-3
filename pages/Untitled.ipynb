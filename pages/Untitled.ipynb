{
 "cells": [
  {
   "cell_type": "code",
   "execution_count": 12,
   "id": "1ac09137-d143-4e4e-9c95-09691609519b",
   "metadata": {},
   "outputs": [
    {
     "name": "stdout",
     "output_type": "stream",
     "text": [
      "{'name': 'Bitcoin', 'startDate': 1278979200, 'description': 'Bitcoin (BTC) is a cryptocurrency launched in 2010. Users are able to generate BTC through the process of mining. Bitcoin has a current supply of 19,438,506. The last known price of Bitcoin is 29,100.21192395 USD and is down -2.29 over the last 24 hours. It is currently trading on 10358 active market(s) with $14,555,432,282.48 traded over the last 24 hours. More information can be found at https://bitcoin.org/.', 'maxAge': 86400, 'priceHint': 2, 'previousClose': 29171.998, 'open': 29171.998, 'dayLow': 29064.928, 'dayHigh': 29241.158, 'regularMarketPreviousClose': 29171.998, 'regularMarketOpen': 29171.998, 'regularMarketDayLow': 29064.928, 'regularMarketDayHigh': 29241.158, 'volume': 13635745792, 'regularMarketVolume': 13635745792, 'averageVolume': 14910365315, 'averageVolume10days': 13314116812, 'averageDailyVolume10Day': 13314116812, 'marketCap': 567512465408, 'fiftyTwoWeekLow': 15599.047, 'fiftyTwoWeekHigh': 31814.516, 'fiftyDayAverage': 28927.438, 'twoHundredDayAverage': 26137.885, 'currency': 'USD', 'fromCurrency': 'BTC', 'toCurrency': 'USD=X', 'lastMarket': 'CoinMarketCap', 'coinMarketCapLink': 'https://coinmarketcap.com/currencies/bitcoin', 'volume24Hr': 13635745792, 'volumeAllCurrencies': 13635745792, 'circulatingSupply': 19438656, 'exchange': 'CCC', 'quoteType': 'CRYPTOCURRENCY', 'symbol': 'BTC-USD', 'underlyingSymbol': 'BTC-USD', 'shortName': 'Bitcoin USD', 'longName': 'Bitcoin USD', 'firstTradeDateEpochUtc': 1410912000, 'timeZoneFullName': 'UTC', 'timeZoneShortName': 'UTC', 'uuid': '74397779-1589-3270-8c45-b7f1a7345b3a', 'messageBoardId': 'finmb_BTC_CCC', 'trailingPegRatio': None}\n"
     ]
    }
   ],
   "source": [
    "import yfinance as yf\n",
    "\n",
    "\n",
    "price = (yf.Ticker('BTC-USD').info)\n",
    "print(price)\n",
    "\n"
   ]
  },
  {
   "cell_type": "code",
   "execution_count": null,
   "id": "aa395e78-8473-4833-969f-ebb80c0fc896",
   "metadata": {},
   "outputs": [],
   "source": []
  }
 ],
 "metadata": {
  "kernelspec": {
   "display_name": "Python 3 (ipykernel)",
   "language": "python",
   "name": "python3"
  },
  "language_info": {
   "codemirror_mode": {
    "name": "ipython",
    "version": 3
   },
   "file_extension": ".py",
   "mimetype": "text/x-python",
   "name": "python",
   "nbconvert_exporter": "python",
   "pygments_lexer": "ipython3",
   "version": "3.9.13"
  }
 },
 "nbformat": 4,
 "nbformat_minor": 5
}
