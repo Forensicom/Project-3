{
 "cells": [
  {
   "cell_type": "code",
   "execution_count": 5,
   "id": "1ac09137-d143-4e4e-9c95-09691609519b",
   "metadata": {},
   "outputs": [
    {
     "data": {
      "text/plain": [
       "29171.998"
      ]
     },
     "execution_count": 5,
     "metadata": {},
     "output_type": "execute_result"
    }
   ],
   "source": [
    "import yfinance as yf\n",
    "\n",
    "\n",
    "price = (yf.Ticker('BTC-USD').info['regularMarketPreviousClose'])\n",
    "price"
   ]
  },
  {
   "cell_type": "code",
   "execution_count": null,
   "id": "aa395e78-8473-4833-969f-ebb80c0fc896",
   "metadata": {},
   "outputs": [],
   "source": []
  }
 ],
 "metadata": {
  "kernelspec": {
   "display_name": "Python 3 (ipykernel)",
   "language": "python",
   "name": "python3"
  },
  "language_info": {
   "codemirror_mode": {
    "name": "ipython",
    "version": 3
   },
   "file_extension": ".py",
   "mimetype": "text/x-python",
   "name": "python",
   "nbconvert_exporter": "python",
   "pygments_lexer": "ipython3",
   "version": "3.9.13"
  }
 },
 "nbformat": 4,
 "nbformat_minor": 5
}
