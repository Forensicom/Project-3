{
 "cells": [
  {
   "cell_type": "code",
   "execution_count": 10,
   "id": "2d5b8ed9-21de-4a9f-91dc-937ffecb86e6",
   "metadata": {},
   "outputs": [
    {
     "name": "stderr",
     "output_type": "stream",
     "text": [
      "2023-07-26 19:39:26.304 \n",
      "  \u001b[33m\u001b[1mWarning:\u001b[0m to view this Streamlit app on a browser, run it with the following\n",
      "  command:\n",
      "\n",
      "    streamlit run C:\\Users\\LarryGagnon\\anaconda3\\lib\\site-packages\\ipykernel_launcher.py [ARGUMENTS]\n"
     ]
    },
    {
     "ename": "SyntaxError",
     "evalue": "'return' outside function (3961990676.py, line 20)",
     "output_type": "error",
     "traceback": [
      "\u001b[1;36m  File \u001b[1;32m\"C:\\Users\\LarryGagnon\\AppData\\Local\\Temp\\ipykernel_17728\\3961990676.py\"\u001b[1;36m, line \u001b[1;32m20\u001b[0m\n\u001b[1;33m    return output\u001b[0m\n\u001b[1;37m    ^\u001b[0m\n\u001b[1;31mSyntaxError\u001b[0m\u001b[1;31m:\u001b[0m 'return' outside function\n"
     ]
    }
   ],
   "source": [
    "import requests\n",
    "import os\n",
    "import json\n",
    "import streamlit as st\n",
    "\n",
    "api_key = os.getenv(\"COINCAP_API_KEY\")\n",
    "\n",
    "options = ['Bitcoin', 'Ethereum', 'Tether', 'Ripple', 'Binance']\n",
    "choice = st.selectbox('Choose a cryptocurrency to get started.', options)\n",
    "\n",
    "# These API URL's were tested and confirmed as working. No API key required.\n",
    "btc_url = \"https://api.coincap.io/v2/assets/bitcoin\"\n",
    "eth_url = \"https://api.coincap.io/v2/assets/ethereum\"\n",
    "usdt_url = \"https://api.coincap.io/v2/assets/tether\"\n",
    "xrp_url = \"https://api.coincap.io/v2/assets/xrp\"\n",
    "bnb_url = \"https://api.coincap.io/v2/assets/binance-usd\"\n",
    "\n",
    "if choice == \"Bitcoin\":\n",
    "    output = requests.get(btc_url).json()\n",
    "    return output\n",
    "elif choice == \"Ethereum\":\n",
    "    output = requests.get(eth_url).json()\n",
    "elif choice == \"Tether\":\n",
    "    output = requests.get(usdt_url).json()\n",
    "elif choice == \"Ripple\":\n",
    "    output = requests.get(xrp_url).json()\n",
    "elif choice == \"Binance\":\n",
    "    output = requests.get(bnb_url).json()\n",
    "else: \n",
    "    print(\"Pick something!!\")\n",
    "    \n",
    "    \n",
    "now_price = output['data']['priceUsd']\n",
    "print(now_price)\n",
    "\n",
    "\n"
   ]
  },
  {
   "cell_type": "code",
   "execution_count": 5,
   "id": "d97eb8c4-7c75-411d-89e2-f22b41357b47",
   "metadata": {},
   "outputs": [
    {
     "name": "stdout",
     "output_type": "stream",
     "text": [
      "29518.7380783781175278\n"
     ]
    }
   ],
   "source": []
  },
  {
   "cell_type": "code",
   "execution_count": null,
   "id": "814830bf-2df0-4a9f-8dfa-7d76c54ba791",
   "metadata": {},
   "outputs": [],
   "source": []
  }
 ],
 "metadata": {
  "kernelspec": {
   "display_name": "Python 3 (ipykernel)",
   "language": "python",
   "name": "python3"
  },
  "language_info": {
   "codemirror_mode": {
    "name": "ipython",
    "version": 3
   },
   "file_extension": ".py",
   "mimetype": "text/x-python",
   "name": "python",
   "nbconvert_exporter": "python",
   "pygments_lexer": "ipython3",
   "version": "3.9.13"
  }
 },
 "nbformat": 4,
 "nbformat_minor": 5
}
