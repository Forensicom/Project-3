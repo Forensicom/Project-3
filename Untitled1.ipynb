{
 "cells": [
  {
   "cell_type": "code",
   "execution_count": null,
   "id": "8b86dc87-5fcb-4bf5-878d-9ed4a7905c41",
   "metadata": {},
   "outputs": [],
   "source": []
  },
  {
   "cell_type": "code",
   "execution_count": null,
   "id": "46ac07ed-069c-449b-bcd2-a20370dbc80e",
   "metadata": {},
   "outputs": [],
   "source": []
  },
  {
   "cell_type": "code",
   "execution_count": 18,
   "id": "048cf1f0-e0b3-400d-bc7f-59267adff74f",
   "metadata": {},
   "outputs": [
    {
     "data": {
      "text/plain": [
       "[                                   Open          High           Low  \\\n",
       " Date                                                                  \n",
       " 2023-08-02 00:00:00+00:00  29695.509766  29987.833984  29407.070312   \n",
       " \n",
       "                                   Close       Volume  Dividends  Stock Splits  \n",
       " Date                                                                           \n",
       " 2023-08-02 00:00:00+00:00  29580.009766  20683272192        0.0           0.0  ,\n",
       "                                 Open         High          Low        Close  \\\n",
       " Date                                                                          \n",
       " 2023-08-02 00:00:00+00:00  1872.4021  1877.511475  1853.106934  1859.773682   \n",
       " \n",
       "                                Volume  Dividends  Stock Splits  \n",
       " Date                                                            \n",
       " 2023-08-02 00:00:00+00:00  6998838784        0.0           0.0  ,\n",
       "                                Open      High       Low     Close  \\\n",
       " Date                                                                \n",
       " 2023-08-02 00:00:00+00:00  0.999535  1.000287  0.999134  0.999481   \n",
       " \n",
       "                                 Volume  Dividends  Stock Splits  \n",
       " Date                                                             \n",
       " 2023-08-02 00:00:00+00:00  26960533504        0.0           0.0  ,\n",
       "                                Open      High       Low     Close      Volume  \\\n",
       " Date                                                                            \n",
       " 2023-08-02 00:00:00+00:00  0.706249  0.707032  0.692766  0.696177  1198739840   \n",
       " \n",
       "                            Dividends  Stock Splits  \n",
       " Date                                                \n",
       " 2023-08-02 00:00:00+00:00        0.0           0.0  ,\n",
       "                                  Open        High         Low       Close  \\\n",
       " Date                                                                        \n",
       " 2023-08-02 00:00:00+00:00  247.798431  248.477295  244.391907  245.850342   \n",
       " \n",
       "                               Volume  Dividends  Stock Splits  \n",
       " Date                                                           \n",
       " 2023-08-02 00:00:00+00:00  586991424        0.0           0.0  ]"
      ]
     },
     "execution_count": 18,
     "metadata": {},
     "output_type": "execute_result"
    }
   ],
   "source": [
    "import yfinance as yf\n",
    "import pandas as pd\n",
    "\n",
    "bitcoin = yf.Ticker(\"BTC-USD\")\n",
    "ethereum = yf.Ticker(\"ETH-USD\")\n",
    "tether = yf.Ticker(\"USDT-USD\")\n",
    "ripple = yf.Ticker(\"XRP-USD\")\n",
    "binance = yf.Ticker(\"BNB-USD\")\n",
    "bitcoin_day = bitcoin.history(period=\"1d\")\n",
    "ethereum_day = ethereum.history(period=\"1d\")\n",
    "tether_day = tether.history(period=\"1d\")\n",
    "ripple_day = ripple.history(period=\"1d\")\n",
    "binance_day = binance.history(period=\"1d\")\n",
    "\n",
    "list =[bitcoin_day, ethereum_day, tether_day, ripple_day, binance_day]\n",
    "pd.concat(list)\n",
    "list"
   ]
  },
  {
   "cell_type": "code",
   "execution_count": null,
   "id": "8e87e39b-9624-417a-986f-9b2993bff9d8",
   "metadata": {},
   "outputs": [],
   "source": []
  }
 ],
 "metadata": {
  "kernelspec": {
   "display_name": "Python 3 (ipykernel)",
   "language": "python",
   "name": "python3"
  },
  "language_info": {
   "codemirror_mode": {
    "name": "ipython",
    "version": 3
   },
   "file_extension": ".py",
   "mimetype": "text/x-python",
   "name": "python",
   "nbconvert_exporter": "python",
   "pygments_lexer": "ipython3",
   "version": "3.9.13"
  }
 },
 "nbformat": 4,
 "nbformat_minor": 5
}
