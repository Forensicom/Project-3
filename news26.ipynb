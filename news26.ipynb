{
 "cells": [
  {
   "cell_type": "code",
   "execution_count": 9,
   "id": "225ff2f5-9ebb-423d-b426-992b52695b48",
   "metadata": {},
   "outputs": [],
   "source": [
    "import feedparser\n",
    "import webbrowser\n",
    "import pandas as pd"
   ]
  },
  {
   "cell_type": "code",
   "execution_count": 10,
   "id": "0d6deb18-e20c-4441-bde0-f29ddbf8e30d",
   "metadata": {},
   "outputs": [
    {
     "name": "stdout",
     "output_type": "stream",
     "text": [
      "Canvas Ventures Secures All-Cash Exit for AI Startup[https://www.bloomberg.com/news/videos/2023-07-26/canvas-ventures-secures-all-cash-exit-for-ai-startup-video]\n"
     ]
    }
   ],
   "source": [
    "feed = feedparser.parse(\"https://feeds.bloomberg.com/markets/news.rss\")\n",
    "feed_title = feed['feed']['title']\n",
    "feed_entried = feed.entries\n",
    "for entry in feed.entries:\n",
    "    article_title = entry.title\n",
    "    article_link = entry.link\n",
    "    \n",
    "print (\"{}[{}]\".format(article_title, article_link))"
   ]
  },
  {
   "cell_type": "code",
   "execution_count": 19,
   "id": "43d88437-02fd-4dba-ade0-ac0ed827f5ed",
   "metadata": {},
   "outputs": [],
   "source": [
    "data = {}\n",
    "for entry in feed.entries:\n",
    "    data.setdefault('title',[])\n",
    "    data.setdefault('link',[])\n",
    "    data['title'].append(entry.title)\n",
    "    data['link'].append(entry.link)"
   ]
  },
  {
   "cell_type": "code",
   "execution_count": 20,
   "id": "106df3bd-fcda-4782-807c-4c2f4b566101",
   "metadata": {},
   "outputs": [
    {
     "data": {
      "text/plain": [
       "{'title': ['Dow Average Posts Historic Run, Yields Drop on Fed: Markets Wrap',\n",
       "  'Dow Rises for 13th Day, Matches Record | Beyond the Bell',\n",
       "  'Empowering Women in Sustainability',\n",
       "  'Financing Asia’s Energy Transition',\n",
       "  'Bloomberg Surveillance 07/26/2023',\n",
       "  'What to Watch in ESG Reporting',\n",
       "  'View from Bloomberg Sustainable Business Summit Advisors',\n",
       "  'Building an Ethical Supply Chain',\n",
       "  'Dow Teeters on Brink of Historic Winning Streak as Markets Await Fed',\n",
       "  'CEPSA, Apical & BCG Leaders on Sustainable Aviation Fuel',\n",
       "  'Surveillance Special: Fed’s Powell Executes Operation Say Nothing',\n",
       "  'Singapore’s Environment Minister on Accelerating Sustainability Goals',\n",
       "  'Reducing Waste in the Premium Spirits Supply Chain',\n",
       "  'Startup Leaders on Accelerating Decarbonizing',\n",
       "  'Bloomberg Markets 07/26/2023',\n",
       "  'SGX Group CEO on ESG Initiatives',\n",
       "  'Right Time To Step Down, Says Union Pacific CEO',\n",
       "  'The New Sustainable Travel Journey',\n",
       "  'Innovating for the Net-Zero Future',\n",
       "  'Powell Has Stopped Handing Gifts to Wall Street on Fed Day',\n",
       "  'Bloomberg Markets: Americas 07/26/2023',\n",
       "  'Key Takeaways From the Fed Rate Decision and Powell’s News Conference',\n",
       "  'Schneider Electric Advisor Spotlight: Buildings of the Future',\n",
       "  'Bloomberg Markets: European Close 07/26/2023',\n",
       "  'Powell: The Fed Will Tighten More If Appropriate',\n",
       "  'Oil Slips as US Stockpile Draw Disappoints, Fed Hikes Rates',\n",
       "  'Powell: Fed Staff No Longer Forecasting Recession',\n",
       "  'Snap Sees Positive Signs, But Not Out of Revenue Slump: Enberg',\n",
       "  \"Powell Says It's Possible Fed Raises Rates in September\",\n",
       "  'Canvas Ventures Secures All-Cash Exit for AI Startup'],\n",
       " 'link': ['https://www.bloomberg.com/news/articles/2023-07-25/stock-market-today-dow-s-p-live-updates',\n",
       "  'https://www.bloomberg.com/news/videos/2023-07-26/dow-rises-for-13th-day-matches-record-beyond-the-bell-video',\n",
       "  'https://www.bloomberg.com/news/videos/2023-07-26/empowering-women-in-sustainability',\n",
       "  'https://www.bloomberg.com/news/videos/2023-07-26/financing-asia-s-energy-transition',\n",
       "  'https://www.bloomberg.com/news/videos/2023-07-26/bloomberg-surveillance-07-26-2023',\n",
       "  'https://www.bloomberg.com/news/videos/2023-07-26/what-to-watch-in-esg-reporting',\n",
       "  'https://www.bloomberg.com/news/videos/2023-07-26/view-from-bloomberg-sustainable-business-summit-advisors-video',\n",
       "  'https://www.bloomberg.com/news/videos/2023-07-26/building-an-ethical-supply-chain',\n",
       "  'https://www.bloomberg.com/news/articles/2023-07-26/dow-teeters-on-brink-of-historic-winning-streak-with-fed-on-tap',\n",
       "  'https://www.bloomberg.com/news/videos/2023-07-26/cepsa-apical-bcg-leaders-on-sustainable-aviation-fuel',\n",
       "  'https://www.bloomberg.com/news/newsletters/2023-07-26/fed-chair-powell-takes-say-nothing-stance-after-today-s-meeting',\n",
       "  'https://www.bloomberg.com/news/videos/2023-07-26/singapore-s-environment-minister-on-accelerating-sustainability-goals',\n",
       "  'https://www.bloomberg.com/news/videos/2023-07-26/reducing-waste-in-the-premium-spirits-supply-chain-video',\n",
       "  'https://www.bloomberg.com/news/videos/2023-07-26/startup-leaders-on-accelerating-decarbonizing',\n",
       "  'https://www.bloomberg.com/news/videos/2023-07-26/bloomberg-markets-07-26-2023-video',\n",
       "  'https://www.bloomberg.com/news/videos/2023-07-26/sgx-group-ceo-on-esg-initiatives-video',\n",
       "  'https://www.bloomberg.com/news/videos/2023-07-26/right-time-to-step-down-says-union-pacific-ceo-video',\n",
       "  'https://www.bloomberg.com/news/videos/2023-07-26/the-new-sustainable-travel-journey-video',\n",
       "  'https://www.bloomberg.com/news/videos/2023-07-26/innovating-for-the-net-zero-future',\n",
       "  'https://www.bloomberg.com/news/articles/2023-07-26/powell-handed-easy-profits-to-wall-street-on-fed-day',\n",
       "  'https://www.bloomberg.com/news/videos/2023-07-26/bloomberg-markets-americas-07-26-2023',\n",
       "  'https://www.bloomberg.com/news/articles/2023-07-26/fed-hikes-rates-5-takeaways-from-decision-and-powell-s-news-conference',\n",
       "  'https://www.bloomberg.com/news/videos/2023-07-26/schneider-electric-spotlight-buildings-of-the-future-video',\n",
       "  'https://www.bloomberg.com/news/videos/2023-07-26/bloomberg-markets-european-close-07-26-2023',\n",
       "  'https://www.bloomberg.com/news/videos/2023-07-26/powell-the-fed-will-tighten-more-if-appropriate-video',\n",
       "  'https://www.bloomberg.com/news/articles/2023-07-25/latest-oil-market-news-and-analysis-for-july-26',\n",
       "  'https://www.bloomberg.com/news/videos/2023-07-26/powell-fed-staff-no-longer-forecasting-recession-video',\n",
       "  'https://www.bloomberg.com/news/videos/2023-07-26/snap-sees-positive-signs-but-not-out-of-slump-enberg-video',\n",
       "  'https://www.bloomberg.com/news/videos/2023-07-26/powell-says-it-s-possible-fed-raises-rates-in-september-video',\n",
       "  'https://www.bloomberg.com/news/videos/2023-07-26/canvas-ventures-secures-all-cash-exit-for-ai-startup-video']}"
      ]
     },
     "execution_count": 20,
     "metadata": {},
     "output_type": "execute_result"
    }
   ],
   "source": [
    "data"
   ]
  },
  {
   "cell_type": "code",
   "execution_count": 23,
   "id": "dd539ab7-32de-4b09-9a5c-06d0020b94e5",
   "metadata": {},
   "outputs": [
    {
     "data": {
      "text/html": [
       "<div>\n",
       "<style scoped>\n",
       "    .dataframe tbody tr th:only-of-type {\n",
       "        vertical-align: middle;\n",
       "    }\n",
       "\n",
       "    .dataframe tbody tr th {\n",
       "        vertical-align: top;\n",
       "    }\n",
       "\n",
       "    .dataframe thead th {\n",
       "        text-align: right;\n",
       "    }\n",
       "</style>\n",
       "<table border=\"1\" class=\"dataframe\">\n",
       "  <thead>\n",
       "    <tr style=\"text-align: right;\">\n",
       "      <th></th>\n",
       "      <th>title</th>\n",
       "      <th>link</th>\n",
       "    </tr>\n",
       "  </thead>\n",
       "  <tbody>\n",
       "    <tr>\n",
       "      <th>0</th>\n",
       "      <td>Dow Average Posts Historic Run, Yields Drop on...</td>\n",
       "      <td>https://www.bloomberg.com/news/articles/2023-0...</td>\n",
       "    </tr>\n",
       "    <tr>\n",
       "      <th>1</th>\n",
       "      <td>Dow Rises for 13th Day, Matches Record | Beyon...</td>\n",
       "      <td>https://www.bloomberg.com/news/videos/2023-07-...</td>\n",
       "    </tr>\n",
       "    <tr>\n",
       "      <th>2</th>\n",
       "      <td>Empowering Women in Sustainability</td>\n",
       "      <td>https://www.bloomberg.com/news/videos/2023-07-...</td>\n",
       "    </tr>\n",
       "    <tr>\n",
       "      <th>3</th>\n",
       "      <td>Financing Asia’s Energy Transition</td>\n",
       "      <td>https://www.bloomberg.com/news/videos/2023-07-...</td>\n",
       "    </tr>\n",
       "    <tr>\n",
       "      <th>4</th>\n",
       "      <td>Bloomberg Surveillance 07/26/2023</td>\n",
       "      <td>https://www.bloomberg.com/news/videos/2023-07-...</td>\n",
       "    </tr>\n",
       "  </tbody>\n",
       "</table>\n",
       "</div>"
      ],
      "text/plain": [
       "                                               title  \\\n",
       "0  Dow Average Posts Historic Run, Yields Drop on...   \n",
       "1  Dow Rises for 13th Day, Matches Record | Beyon...   \n",
       "2                 Empowering Women in Sustainability   \n",
       "3                 Financing Asia’s Energy Transition   \n",
       "4                  Bloomberg Surveillance 07/26/2023   \n",
       "\n",
       "                                                link  \n",
       "0  https://www.bloomberg.com/news/articles/2023-0...  \n",
       "1  https://www.bloomberg.com/news/videos/2023-07-...  \n",
       "2  https://www.bloomberg.com/news/videos/2023-07-...  \n",
       "3  https://www.bloomberg.com/news/videos/2023-07-...  \n",
       "4  https://www.bloomberg.com/news/videos/2023-07-...  "
      ]
     },
     "execution_count": 23,
     "metadata": {},
     "output_type": "execute_result"
    }
   ],
   "source": [
    "df = pd.DataFrame(data)\n",
    "df.head()"
   ]
  },
  {
   "cell_type": "code",
   "execution_count": null,
   "id": "48331855-041d-48d6-ac28-954499d3dad7",
   "metadata": {},
   "outputs": [],
   "source": []
  }
 ],
 "metadata": {
  "kernelspec": {
   "display_name": "Python 3 (ipykernel)",
   "language": "python",
   "name": "python3"
  },
  "language_info": {
   "codemirror_mode": {
    "name": "ipython",
    "version": 3
   },
   "file_extension": ".py",
   "mimetype": "text/x-python",
   "name": "python",
   "nbconvert_exporter": "python",
   "pygments_lexer": "ipython3",
   "version": "3.7.13"
  }
 },
 "nbformat": 4,
 "nbformat_minor": 5
}
